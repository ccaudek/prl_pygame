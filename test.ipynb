{
 "cells": [
  {
   "cell_type": "code",
   "execution_count": 1,
   "metadata": {},
   "outputs": [
    {
     "name": "stdout",
     "output_type": "stream",
     "text": [
      "pygame 2.5.0 (SDL 2.26.5, Python 3.11.4)\n",
      "Hello from the pygame community. https://www.pygame.org/contribute.html\n"
     ]
    },
    {
     "name": "stderr",
     "output_type": "stream",
     "text": [
      "<frozen importlib._bootstrap>:241: RuntimeWarning: Your system is avx2 capable but pygame was not built with support for it. The performance of some of your blits could be adversely affected. Consider enabling compile time detection with environment variables like PYGAME_DETECT_AVX2=1 if you are compiling without cross compilation.\n"
     ]
    }
   ],
   "source": [
    "from revl_funs import select_img_pair"
   ]
  },
  {
   "cell_type": "code",
   "execution_count": 2,
   "metadata": {},
   "outputs": [
    {
     "data": {
      "text/plain": [
       "('im_disinhibition_1.jpg', 'im_neutral_1.jpg')"
      ]
     },
     "execution_count": 2,
     "metadata": {},
     "output_type": "execute_result"
    }
   ],
   "source": [
    "select_img_pair(1, 1)"
   ]
  },
  {
   "cell_type": "code",
   "execution_count": 5,
   "metadata": {},
   "outputs": [
    {
     "ename": "",
     "evalue": "",
     "output_type": "error",
     "traceback": [
      "\u001b[1;31mThe Kernel crashed while executing code in the the current cell or a previous cell. Please review the code in the cell(s) to identify a possible cause of the failure. Click <a href='https://aka.ms/vscodeJupyterKernelCrash'>here</a> for more info. View Jupyter <a href='command:jupyter.viewOutput'>log</a> for further details."
     ]
    }
   ],
   "source": [
    "import pygame\n",
    "import time  # Import the time module for waiting\n",
    "\n",
    "# Replace 'revl_funs' with the actual module name where 'draw_fixation' is defined\n",
    "from revl_funs import draw_fixation\n",
    "\n",
    "# Initialize pygame\n",
    "pygame.init()\n",
    "\n",
    "# Set screen dimensions (width and height)\n",
    "wdw = 800  # Set your desired value\n",
    "wdh = 600  # Set your desired value\n",
    "\n",
    "# Create the screen\n",
    "screen = pygame.display.set_mode((wdw, wdh))\n",
    "\n",
    "# Set line properties\n",
    "fx = 10  # Set your desired value\n",
    "grey = (128, 128, 128)  # Grey color in RGB\n",
    "\n",
    "# Call the function to draw fixation\n",
    "draw_fixation(screen, wdw, wdh)  # Provide the missing arguments for draw_fixation\n",
    "\n",
    "# Update the display\n",
    "pygame.display.flip()\n",
    "\n",
    "# Wait for 3 seconds\n",
    "time.sleep(3)\n",
    "\n",
    "# Clear the screen with a background color\n",
    "screen.fill((0, 0, 0))  # Fill with black color\n",
    "\n",
    "# Update the display after clearing the screen\n",
    "pygame.display.flip()\n",
    "\n",
    "# Wait for 1 second (optional)\n",
    "time.sleep(1)\n",
    "\n",
    "# Quit pygame\n",
    "pygame.quit()"
   ]
  }
 ],
 "metadata": {
  "kernelspec": {
   "display_name": "prl_env",
   "language": "python",
   "name": "python3"
  },
  "language_info": {
   "codemirror_mode": {
    "name": "ipython",
    "version": 3
   },
   "file_extension": ".py",
   "mimetype": "text/x-python",
   "name": "python",
   "nbconvert_exporter": "python",
   "pygments_lexer": "ipython3",
   "version": "3.11.4"
  },
  "orig_nbformat": 4
 },
 "nbformat": 4,
 "nbformat_minor": 2
}
